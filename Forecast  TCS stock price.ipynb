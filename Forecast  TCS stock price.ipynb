{
 "cells": [
  {
   "cell_type": "code",
   "execution_count": 6,
   "id": "fab535a3-78ed-4cd4-a162-c1e912cdc34b",
   "metadata": {},
   "outputs": [],
   "source": [
    "from statsmodels.tsa.arima_model import ARIMA\n",
    "import joblib"
   ]
  },
  {
   "cell_type": "code",
   "execution_count": 9,
   "id": "eab6fbdd-9e07-4ae4-9d09-37ce1875900d",
   "metadata": {},
   "outputs": [],
   "source": [
    "load_model=joblib.load(\"stockmodel.joblib\")"
   ]
  },
  {
   "cell_type": "code",
   "execution_count": null,
   "id": "71c03022-17ce-4a33-a95f-2b6271fc5fd0",
   "metadata": {},
   "outputs": [],
   "source": [
    "#THIS MODEL WAS TRAINED ON 08-06-2024 \n",
    "#SO THIS IS THE END DATE\n",
    "#MENTION THE NO OF DAYS FROM 08-06-2024 FOR WHICH THE TCS STOCK PRICES HAS TO BE FORECASTED"
   ]
  },
  {
   "cell_type": "code",
   "execution_count": 10,
   "id": "e0eebaed-cb55-4f7b-8a0b-3a47f485e764",
   "metadata": {},
   "outputs": [
    {
     "name": "stderr",
     "output_type": "stream",
     "text": [
      "C:\\Users\\Jannesh_OP\\AppData\\Local\\Programs\\Python\\Python312\\Lib\\site-packages\\statsmodels\\tsa\\base\\tsa_model.py:836: ValueWarning: No supported index is available. Prediction results will be given with an integer index beginning at `start`.\n",
      "  return get_prediction_index(\n",
      "C:\\Users\\Jannesh_OP\\AppData\\Local\\Programs\\Python\\Python312\\Lib\\site-packages\\statsmodels\\tsa\\base\\tsa_model.py:836: FutureWarning: No supported index is available. In the next version, calling this method in a model without a supported index will result in an exception.\n",
      "  return get_prediction_index(\n"
     ]
    },
    {
     "data": {
      "text/plain": [
       "492    3839.414349\n",
       "493    3847.800727\n",
       "494    3841.393613\n",
       "495    3838.718670\n",
       "496    3827.883970\n",
       "497    3819.391386\n",
       "498    3818.098344\n",
       "499    3815.843746\n",
       "500    3817.536504\n",
       "501    3811.733428\n",
       "Name: predicted_mean, dtype: float64"
      ]
     },
     "execution_count": 10,
     "metadata": {},
     "output_type": "execute_result"
    }
   ],
   "source": [
    "load_model.forecast(10)"
   ]
  },
  {
   "cell_type": "code",
   "execution_count": null,
   "id": "e8c98708-d5bc-4c84-8e3e-88310f864522",
   "metadata": {},
   "outputs": [],
   "source": []
  }
 ],
 "metadata": {
  "kernelspec": {
   "display_name": "Python 3 (ipykernel)",
   "language": "python",
   "name": "python3"
  },
  "language_info": {
   "codemirror_mode": {
    "name": "ipython",
    "version": 3
   },
   "file_extension": ".py",
   "mimetype": "text/x-python",
   "name": "python",
   "nbconvert_exporter": "python",
   "pygments_lexer": "ipython3",
   "version": "3.12.0"
  }
 },
 "nbformat": 4,
 "nbformat_minor": 5
}
